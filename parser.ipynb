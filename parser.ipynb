{
  "nbformat": 4,
  "nbformat_minor": 0,
  "metadata": {
    "colab": {
      "provenance": [],
      "authorship_tag": "ABX9TyNUZmvVAriAfWga63SR7b0w",
      "include_colab_link": true
    },
    "kernelspec": {
      "name": "python3",
      "display_name": "Python 3"
    },
    "language_info": {
      "name": "python"
    }
  },
  "cells": [
    {
      "cell_type": "markdown",
      "metadata": {
        "id": "view-in-github",
        "colab_type": "text"
      },
      "source": [
        "<a href=\"https://colab.research.google.com/github/iva9999/diary/blob/main/parser.ipynb\" target=\"_parent\"><img src=\"https://colab.research.google.com/assets/colab-badge.svg\" alt=\"Open In Colab\"/></a>"
      ]
    },
    {
      "cell_type": "code",
      "execution_count": null,
      "metadata": {
        "colab": {
          "base_uri": "https://localhost:8080/"
        },
        "id": "NDMk1nD_fWjz",
        "outputId": "a1fcadf1-8c3f-4743-a270-07b2f3ec087c"
      },
      "outputs": [
        {
          "output_type": "stream",
          "name": "stdout",
          "text": [
            "Collecting bs4\n",
            "  Downloading bs4-0.0.2-py2.py3-none-any.whl.metadata (411 bytes)\n",
            "Requirement already satisfied: beautifulsoup4 in /usr/local/lib/python3.11/dist-packages (from bs4) (4.13.4)\n",
            "Requirement already satisfied: soupsieve>1.2 in /usr/local/lib/python3.11/dist-packages (from beautifulsoup4->bs4) (2.7)\n",
            "Requirement already satisfied: typing-extensions>=4.0.0 in /usr/local/lib/python3.11/dist-packages (from beautifulsoup4->bs4) (4.13.2)\n",
            "Downloading bs4-0.0.2-py2.py3-none-any.whl (1.2 kB)\n",
            "Installing collected packages: bs4\n",
            "Successfully installed bs4-0.0.2\n"
          ]
        }
      ],
      "source": [
        "!pip3 install bs4"
      ]
    },
    {
      "cell_type": "code",
      "source": [
        "from bs4 import BeautifulSoup\n",
        "import requests\n",
        "import pandas as pd"
      ],
      "metadata": {
        "id": "t3FbYpzDgFJh"
      },
      "execution_count": null,
      "outputs": []
    },
    {
      "cell_type": "code",
      "source": [
        "base_url = \"https://new-science.ru/category/news/page/\"\n",
        "dict_news = {\"news\": [], \"links\": [], \"date\": [], 'views': []}\n",
        "for i in range(1, 31):\n",
        "  response = requests.get(base_url+ str(i)+ \"/\")\n",
        "  bs = BeautifulSoup(response.text,\"lxml\")\n",
        "  temp = bs.find_all('div', 'post-details')\n",
        "\n",
        "  for e in temp:\n",
        "    dict_news[\"news\"].append(e.find(\"h2\", \"post-title\").text)\n",
        "    dict_news[\"links\"].append(e.find(\"h2\", \"post-title\").find('a').get('href'))\n",
        "    dict_news[\"date\"].append(e.find(\"span\", \"date meta-item tie-icon\").text)\n",
        "    dict_news[\"views\"].append(e.find(\"span\", \"meta-views meta-item\").text)\n",
        "\n",
        "df_news = pd.DataFrame(dict_news, columns=[\"news\", \"links\", 'date', 'views'])\n",
        "df_news.to_csv('./parser.csv', index = False)"
      ],
      "metadata": {
        "id": "yiS8z6NJhZUQ"
      },
      "execution_count": null,
      "outputs": []
    },
    {
      "cell_type": "code",
      "source": [],
      "metadata": {
        "id": "_JBL4FqAjMbv"
      },
      "execution_count": null,
      "outputs": []
    }
  ]
}